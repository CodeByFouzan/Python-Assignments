{
 "cells": [
  {
   "attachments": {
    "image.png": {
     "image/png": "[encoded data removed]"
    }
   },
   "cell_type": "markdown",
   "id": "6f2ee2e3",
   "metadata": {},
   "source": [
    "![image.png](attachment:image.png)"
   ]
  },
  {
   "cell_type": "code",
   "execution_count": 13,
   "id": "7e5a0bcb",
   "metadata": {},
   "outputs": [
    {
     "name": "stdout",
     "output_type": "stream",
     "text": [
      "The Area is =  78.54\n",
      "The Perimeter is =   31.42\n"
     ]
    }
   ],
   "source": [
    "import math\n",
    "class Circle():\n",
    "    #CONSTRUCTOR\n",
    "    def __init__(self,Radius):\n",
    "        self.__Radius = Radius\n",
    "    #METHOD\n",
    "    def Area(self,Radius):\n",
    "        Area = math.pi*Radius**2\n",
    "        return Area\n",
    "    def Perimeter(self,Radius):\n",
    "        Perimeter = 2*math.pi*Radius\n",
    "        return Perimeter\n",
    "#INSTANTIATING AN OBJECT\n",
    "Circle_1 = Circle(5)\n",
    "Area = Circle_1.Area(5)\n",
    "print(\"The Area is = \", round(Area,2))\n",
    "Perimeter = Circle_1.Perimeter(5)\n",
    "print(\"The Perimeter is =  \", round(Perimeter,2))"
   ]
  },
  {
   "attachments": {
    "image.png": {
     "image/png": "[encoded data removed]"
    }
   },
   "cell_type": "markdown",
   "id": "403d5372",
   "metadata": {},
   "source": [
    "![image.png](attachment:image.png)"
   ]
  },
  {
   "cell_type": "code",
   "execution_count": null,
   "id": "8b291116",
   "metadata": {},
   "outputs": [
    {
     "name": "stdout",
     "output_type": "stream",
     "text": [
      "24\n"
     ]
    }
   ],
   "source": [
    "from datetime import date\n",
    "class Person():\n",
    "    def __init__(self,NameP,CountryP,DOBP):\n",
    "        self.Name = NameP\n",
    "        self.Country = CountryP\n",
    "        self.DOB = DOBP\n",
    "    def AgeCalculate(self):\n",
    "        today = date.today()\n",
    "        age = today.year - self.DOB.year\n",
    "        return age\n",
    "Man = Person(\"Fouzan\",\"Pakistan\",date(2001,5,7))\n",
    "PersonAge =  Man.AgeCalculate()\n",
    "print(PersonAge)"
   ]
  },
  {
   "attachments": {
    "image.png": {
     "image/png": "[encoded data removed]"
    }
   },
   "cell_type": "markdown",
   "id": "35e3aad1",
   "metadata": {},
   "source": [
    "![image.png](attachment:image.png)"
   ]
  },
  {
   "cell_type": "code",
   "execution_count": 29,
   "id": "7bbf5088",
   "metadata": {},
   "outputs": [
    {
     "name": "stdout",
     "output_type": "stream",
     "text": [
      "1.0\n"
     ]
    }
   ],
   "source": [
    "class Calculator():\n",
    "    def __init__(self,operator,num1, num2):\n",
    "        self.operator = operator\n",
    "        self.num1 = num1\n",
    "        self.num2 = num2\n",
    "    def Calculate(self):\n",
    "        if self.operator == \"+\":\n",
    "            ans = self.num1 + self.num2 \n",
    "        elif self.operator == \"-\":\n",
    "            ans = self.num1 - self.num2\n",
    "        elif self.operator == \"*\":\n",
    "            ans = self.num1 * self.num2\n",
    "        elif self.operator == \"/\":\n",
    "            ans = self.num1 / self.num2\n",
    "        elif self.operator == \"**\":\n",
    "            ans = self.num1**self.num2\n",
    "        return ans\n",
    "Calculation_1 = Calculator(\"/\",2,2)\n",
    "print(Calculation_1.Calculate())\n",
    "\n",
    "\n",
    "\n",
    "        \n",
    "            \n"
   ]
  }
 ],
 "metadata": {
  "kernelspec": {
   "display_name": "Python 3",
   "language": "python",
   "name": "python3"
  },
  "language_info": {
   "codemirror_mode": {
    "name": "ipython",
    "version": 3
   },
   "file_extension": ".py",
   "mimetype": "text/x-python",
   "name": "python",
   "nbconvert_exporter": "python",
   "pygments_lexer": "ipython3",
   "version": "3.13.0"
  }
 },
 "nbformat": 4,
 "nbformat_minor": 5
}
