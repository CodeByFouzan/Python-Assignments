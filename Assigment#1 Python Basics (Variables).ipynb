{
 "cells": [
  {
   "cell_type": "markdown",
   "id": "8e19e24e",
   "metadata": {},
   "source": [
    "# Part 1\n",
    "### Python Basics (Variables)\n",
    "\n"
   ]
  },
  {
   "cell_type": "code",
   "execution_count": null,
   "id": "c8d20786",
   "metadata": {},
   "outputs": [],
   "source": [
    "# Q1.Print Your Name with your Father name and Date of birth using suitable escape sequence charactor.\n",
    "Name = \"Muhammad Fouzan Abid\"  #STRING\n",
    "Father_Name = \"Abdul Abid\" #STRING\n",
    "DOB = \"11-08-2005\" #STRING\n",
    "print(Name + \"\\n\" + Father_Name + \"\\n\" + DOB ) #CONCATENATED STRING\n",
    "\n"
   ]
  },
  {
   "cell_type": "code",
   "execution_count": null,
   "id": "dce57a64",
   "metadata": {},
   "outputs": [],
   "source": [
    "# Q2.Write your small bio using variables and print it using print function\n",
    "Name = \"Muhammad Fouzan Abid\"  #STRING\n",
    "Father_Name = \"Abdul Abid\" #STRING\n",
    "Last_Birthday = \"11-08-2025\"\n",
    "Age = 20\n",
    "print(\"My name is \" + Name + \" son of \" + Father_Name + \".\" + f\" I am {Age} years old and just turned {Age} this {Last_Birthday}.\")\n"
   ]
  },
  {
   "cell_type": "code",
   "execution_count": null,
   "id": "82d0dc5a",
   "metadata": {},
   "outputs": [],
   "source": [
    "# Q3.Write a program in which use all the operators we can use in Python\n",
    "print(\"ARTITHEMETIC OPERATORS\")\n",
    "a = 100\n",
    "b = 10\n",
    "print(f\"-Addition: {a} + {b} = {a + b} \")\n",
    "print(f\"-Subtraction: {a} - {b} = {a - b} \")\n",
    "print(f\"-Multiplication: {a} * {b} = {a * b} \")\n",
    "print(f\"-Division: {a} / {b} = {a/b} \")\n",
    "print(f\"-Exponential/Power: {a}**{b} = {a ** b} \")\n",
    "print(f\"-Modulus/Remainder: {a} % {b} = {a % b} \")\n",
    "print(f\"-Floor Division : {a} // {b} = {a // b} \") #Round down to the nearest integer.\n",
    "print(\"\\nASSIGNMENT OPERATORS\")\n",
    "print(f\"a += 3 : {a + 3}\")\n",
    "print(f\"a -= 3 : {a - 3}\")\n",
    "print(f\"a *= 3 : {a * 3}\")\n",
    "print(f\"a /= 3 : {a / 3}\")\n",
    "print(f\"a **= 3 : {a ** 3}\")\n",
    "print(f\"a %= 3 : {a % 3}\")\n",
    "print(f\"a //= 3 : {a // 3}\")\n",
    "print(\"\\nCOMPARISION OPERATORS\")\n",
    "print(f\"Equal (==): {a} == {b} = {a == b}\")\n",
    "print(f\"Not Equal (!=): {a} != {b} = {a != b}\")\n",
    "print(f\"Greater than (>): {a} > {b} = {a > b}\")\n",
    "print(f\"Less than (<): {a} < {b} = {a < b}\")\n",
    "print(f\"Greater than or equal (>=): {a} >= {b} = {a >= b}\")\n",
    "print(f\"Less than or equal (<=): {a} <= {b} = {a <= b}\")\n",
    "print(\"\\nLOGICAL OPERATORS\")\n",
    "p = 2\n",
    "q = 10\n",
    "print(f\"AND: a==b and p==q: {a == b and p == q}\")\n",
    "print(f\"OR: a>=b or p<=q: {a >= b or p < q}\")\n",
    "print(f\"NOT: a>=b or p<=q:  {not (a >= b or p < q)}\")"
   ]
  },
  {
   "cell_type": "code",
   "execution_count": null,
   "id": "c0fd8902",
   "metadata": {},
   "outputs": [],
   "source": [
    "# Q4. Completes the following steps of small task:\n",
    "# Mention Marks of English , Islamiat and Maths out of 100 in 3 different variables\n",
    "# Mention Variable of Total Marks and assign 300 to it\n",
    "# Calculate Percentage\n",
    "Mark_Eng = 77\n",
    "Mark_Math = 89\n",
    "Mark_Isl = 95\n",
    "Total_Marks = 300\n",
    "Calc_Percentage = ((Mark_Eng + Mark_Isl + Mark_Math)/300)*100\n",
    "print(f\"Your Percentage is: {Calc_Percentage}\")"
   ]
  },
  {
   "cell_type": "markdown",
   "id": "cbd2d6bd",
   "metadata": {},
   "source": [
    "# Part -2\n",
    "### Python Basics (Conditional Statements)\n",
    "\n"
   ]
  },
  {
   "cell_type": "code",
   "execution_count": null,
   "id": "2d79c821",
   "metadata": {},
   "outputs": [],
   "source": [
    "# Q1.A company decided to give bonus of 5% to employee if his/her year \n",
    "# of service is more than 5 years. Ask user for their salary and year of service\n",
    "# and print the net bonus amount.\n",
    "Salary = int(input(\"Enter your salary: \"))\n",
    "YearsOfService = int(input(\"Enter number of years of service: \"))\n",
    "if (YearsOfService > 5):\n",
    "    Bonus = Salary * 0.05\n",
    "    NetBonusAmount = Salary + Bonus\n",
    "    print(f\"Your bonus is {Bonus}, and you will receive {NetBonusAmount} \")\n",
    "else: \n",
    "    print(\"Sorry, You are not eligible for the bonus this year.\")"
   ]
  },
  {
   "cell_type": "code",
   "execution_count": null,
   "id": "b12c2020",
   "metadata": {},
   "outputs": [],
   "source": [
    "# Q2.Write a program to check whether a person is eligible for voting or not.\n",
    "#  (accept age from user) if age is greater than 17 eligible otherwise not eligible\n",
    "age = int(input(\"Enter your age please: \"))\n",
    "if age > 17 :\n",
    "    print(\"You are eligible to vote!\")\n",
    "else: \n",
    "    print(\"Sorry, minimum age is 17 required to vote.\")\n",
    "\n",
    "\n"
   ]
  },
  {
   "cell_type": "code",
   "execution_count": null,
   "id": "37de9793",
   "metadata": {},
   "outputs": [],
   "source": [
    "# Q3. Write a program to check whether a number entered\n",
    "# by user is even or odd.\n",
    "num = int(input(\"Enter a number: \"))\n",
    "if (num%2 == 0):\n",
    "    print(f\"Number you entered was {num}, and it is EVEN.\")\n",
    "else:\n",
    "    print(f\"Number you entered was {num}, and it is ODD.\")"
   ]
  },
  {
   "cell_type": "code",
   "execution_count": null,
   "id": "65f26476",
   "metadata": {},
   "outputs": [],
   "source": [
    "# Q4. Write a program to check whether a number is divisible \n",
    "# by 7 or not. Show Answer\n",
    "num = int(input(\"Enter a number: \"))\n",
    "if (num%7 == 0):\n",
    "    print(f\"Number you entered was {num}, and it is divisible by 7.\")\n",
    "else:\n",
    "    print(f\"Number you entered was {num}, and it is NOT divisible by 7.\")"
   ]
  },
  {
   "cell_type": "code",
   "execution_count": null,
   "id": "bac1750e",
   "metadata": {},
   "outputs": [],
   "source": [
    "# Q5. Write a program to display \"Hello\" if \n",
    "# a number entered by user is a multiple of five , otherwise print \"Bye\".\n",
    "num = int(input(\"Enter a number: \"))\n",
    "if (num%5 == 0):\n",
    "    print(\"Hello\")\n",
    "else:\n",
    "    print(\"Bye\")"
   ]
  },
  {
   "cell_type": "code",
   "execution_count": null,
   "id": "20e4b5dc",
   "metadata": {},
   "outputs": [],
   "source": [
    "# Q6. Write a program to calculate the electricity bill (accept number of unit from user) according to the following criteria : Unit Price\n",
    "# upto 100 units no charge Next 200 units Rs 5 per unit After 200 units Rs 10 per unit (For example if input unit is 350 than \n",
    "# total bill amount is Rs.3500 (For example if input unit is 97 than total bill amount is Rs.0 (For example if \n",
    "# input unit is 150 than total bill amount is Rs.750\n",
    "Unit_Consumed = int(input(\"Enter the units you used this month: \"))\n",
    "Bill = 0 \n",
    "if Unit_Consumed <= 100:\n",
    "    print(str(Bill))\n",
    "elif Unit_Consumed > 100 and Unit_Consumed <=300:\n",
    "    Bill = Unit_Consumed * 5\n",
    "    print(f\"Your Units used were: {Unit_Consumed}, and your bill is: {Bill}\")\n",
    "elif Unit_Consumed >300:\n",
    "    Bill = Unit_Consumed * 10\n",
    "    print(f\"Your Units used were: {Unit_Consumed}, and your bill is: {Bill}\")\n",
    "\n",
    "\n"
   ]
  },
  {
   "cell_type": "code",
   "execution_count": null,
   "id": "4b725f9e",
   "metadata": {},
   "outputs": [],
   "source": [
    "# Q7. Write a program to display the last digit of a number.\n",
    "Num = input(\"Enter a number please: \")\n",
    "print(Num[len(Num)-1])\n"
   ]
  },
  {
   "cell_type": "code",
   "execution_count": null,
   "id": "5b00cc02",
   "metadata": {},
   "outputs": [],
   "source": [
    "#NO QUESTION 8 was present in the file!!!\n",
    "# Q9. Take values of length and breadth of a rectangle from \n",
    "# user and print if it is square or rectangle.\n",
    "Length = int(input(\"Enter the length: \"))\n",
    "Breath = int(input(\"Enter the breath: \"))\n",
    "if Length == Breath :\n",
    "    print(\"Its a SQUARE\")\n",
    "else:\n",
    "    print(\"It's a RECTANGLE\")"
   ]
  },
  {
   "cell_type": "code",
   "execution_count": null,
   "id": "fef321c0",
   "metadata": {},
   "outputs": [],
   "source": [
    "# Q10. Take two int values from user and print greatest among them.\n",
    "Num1 = int(input(\"Enter a numer please: \"))\n",
    "Num2 = int(input(\"Enter a numer please: \"))\n",
    "if Num1 > Num2:\n",
    "    print(f\"{Num1} is the greatest\")\n",
    "elif Num1 < Num2:\n",
    "    print(f\"{Num2} is the greatest\")\n",
    "else:\n",
    "    print(\"Both are equal\")\n",
    "\n"
   ]
  },
  {
   "cell_type": "code",
   "execution_count": null,
   "id": "7b2fca24",
   "metadata": {},
   "outputs": [],
   "source": [
    "# Q11. A shop will give discount of 10% if the cost of purchased quantity is more than 1000. \n",
    "# Ask user for quantity Suppose, one unit will cost 100. Judge and print total cost for user.\n",
    "Quantity = int(input(\"Please enter the number of items purchased: \"))\n",
    "Cost =  Quantity * 100\n",
    "if Cost > 1000:\n",
    "    DiscountedPrice = Cost*0.90\n",
    "    print(f\"Your total cost after 10% discount is Rs.{DiscountedPrice}.\")\n",
    "else:\n",
    "    print(f\"Your total cost is Rs.{Cost}.\")\n"
   ]
  },
  {
   "cell_type": "code",
   "execution_count": null,
   "id": "0b76379f",
   "metadata": {},
   "outputs": [],
   "source": [
    "# Q12.A school has following rules for grading system:\n",
    "# a. Below 25 - F\n",
    "\n",
    "# b. 25 to 45 - E\n",
    "\n",
    "# c. 45 to 50 - D\n",
    "\n",
    "# d. 50 to 60 - C\n",
    "\n",
    "# e. 60 to 80 - B\n",
    "\n",
    "# f. Above 80 - A\n",
    "\n",
    "marks = int(input(\"Enter your marks: \"))\n",
    "if marks < 25:\n",
    "    grade = \"F\"\n",
    "elif marks < 45:\n",
    "    grade = \"E\"\n",
    "elif marks < 50:\n",
    "    grade = \"D\"\n",
    "elif marks < 60:\n",
    "    grade = \"C\"\n",
    "elif marks < 80:\n",
    "    grade = \"B\"\n",
    "else:\n",
    "    grade = \"A\"\n",
    "print(\"Your Grade is:\", grade)"
   ]
  },
  {
   "cell_type": "code",
   "execution_count": null,
   "id": "3ea37258",
   "metadata": {},
   "outputs": [],
   "source": [
    "# Q14. A student will not be allowed to sit in exam if his/her attendence is less than 75%.\n",
    "\n",
    "# Take following input from user\n",
    "\n",
    "# Number of classes held\n",
    "\n",
    "# Number of classes attended.\n",
    "\n",
    "# And print\n",
    "\n",
    "# percentage of class attended\n",
    "\n",
    "# Is student is allowed to sit in exam or not.\n",
    "Classes_Held = int(input(\"ENter the number of classes held: \"))\n",
    "Classes_Attended = int(input(\"ENter the number of classes held: \"))\n",
    "ClassesPercetage = (Classes_Attended/Classes_Held) * 100\n",
    "print(f\"Your percentage attendance is : {ClassesPercetage}\")\n",
    "if ClassesPercetage < 75:\n",
    "    print(\"Not allowed to sit in the class. Contact your academic advisor.\")\n",
    "else:\n",
    "    print(\"Congratulations!\\nAllowed to sit in class.\")"
   ]
  },
  {
   "cell_type": "code",
   "execution_count": null,
   "id": "d04880ab",
   "metadata": {},
   "outputs": [],
   "source": [
    "# Q14.Modify the above question to allow student to sit if \n",
    "# he/she has medical cause. Ask user if he/she has medical\n",
    "#  cause or not ( 'Y' or 'N' ) and print accordingly.\n",
    "Classes_Held = int(input(\"Enter the number of classes held: \"))\n",
    "Classes_Attended = int(input(\"Enter the number of classes attended: \"))\n",
    "ClassesPercetage = (Classes_Attended/Classes_Held) * 100\n",
    "print(f\"Your percentage attendance is : {ClassesPercetage}\")\n",
    "if ClassesPercetage < 75:\n",
    "    Medical_Cause = input(\"Were you on a medical leave: Y/N \")\n",
    "    if Medical_Cause == \"N\":\n",
    "            print(\"Not allowed to sit in the class. Contact your academic advisor.\")\n",
    "    else:\n",
    "        print(\"If yes so email the doctor prescription and reports on xyz.@gmail.com\")\n",
    "else:\n",
    "    print(\"Congratulations!\\nAllowed to sit in class.\")"
   ]
  },
  {
   "cell_type": "code",
   "execution_count": 40,
   "id": "69199320",
   "metadata": {},
   "outputs": [
    {
     "name": "stdout",
     "output_type": "stream",
     "text": [
      "The 4000 is a LEAP year.\n"
     ]
    }
   ],
   "source": [
    "#Q16. Write a program to check if a year is leap year or not.\n",
    "# If a year is divisible by 4 then it is leap year but if \n",
    "# the year is century year like 2000, 1900, 2100 then it must be\n",
    "#  divisible by 400.\n",
    "Year = int(input(\"Enter the year to be checked as leap: \"))\n",
    "if (Year%4 == 0) or (Year%100 == 0 and Year%400 == 0):\n",
    "    print(f\"The {Year} is a LEAP year.\")\n",
    "else:\n",
    "    print(f\"The {Year} is NOT a LEAP year.\")"
   ]
  },
  {
   "cell_type": "code",
   "execution_count": null,
   "id": "ff5864b6",
   "metadata": {},
   "outputs": [
    {
     "name": "stdout",
     "output_type": "stream",
     "text": [
      "You may work anywhere.\n"
     ]
    }
   ],
   "source": [
    "# Q17. Ask user to enter age, gender ( M or F ), marital status ( Y or N ) and then using following rules print their place of service.\n",
    "# if employee is female, then she will work only in urban areas.\n",
    "\n",
    "# if employee is a male and age is in between 20 to 40 then he may work in anywhere\n",
    "\n",
    "# if employee is male and age is in between 40 t0 60 then he will work in urban areas only.\n",
    "\n",
    "# And any other input of age should print \"ERROR\"\n",
    "age = int(input(\"Enter your age: \"))\n",
    "gender = input(\"Enter your gender (M or F): \").upper() #To change small letters entered to a capital letter.\n",
    "marital_status = input(\"Enter marital status (Y or N): \").upper()\n",
    "if gender == 'F':\n",
    "    print(\"You will work only in urban areas.\")\n",
    "elif gender == 'M':\n",
    "    if 20 <= age <= 40:\n",
    "        print(\"You may work anywhere.\")\n",
    "    elif 40 < age <= 60:\n",
    "        print(\"You will work in urban areas only.\")\n",
    "    else:\n",
    "        print(\"ERROR\")        \n",
    "else:\n",
    "    print(\"ERROR: Invalid gender input. Please enter M or F.\")"
   ]
  },
  {
   "cell_type": "code",
   "execution_count": null,
   "id": "3944904d",
   "metadata": {},
   "outputs": [],
   "source": [
    "# Q13. Take input of age of 3 people by user and determine oldest and youngest\n",
    "#  among them.\n",
    "age1 = int(input(\"Enter age of first person: \"))\n",
    "age2 = int(input(\"Enter age of second person: \"))\n",
    "age3 = int(input(\"Enter age of third person: \"))\n",
    "if age1 > age2 and age1 > age3:\n",
    "    oldest = age1\n",
    "elif age2 > age1 and age2 > age3:\n",
    "    oldest = age2\n",
    "else:\n",
    "    oldest = age3\n",
    "if age1 < age2 and age1 < age3:\n",
    "    youngest = age1\n",
    "elif age2 < age1 and age2 < age3:\n",
    "    youngest = age2\n",
    "else:\n",
    "    youngest = age3\n",
    "\n",
    "print(\"Oldest age is:\", oldest)\n",
    "print(\"Youngest age is:\", youngest)\n"
   ]
  }
 ],
 "metadata": {
  "kernelspec": {
   "display_name": ".venv-1 (3.13.0)",
   "language": "python",
   "name": "python3"
  },
  "language_info": {
   "codemirror_mode": {
    "name": "ipython",
    "version": 3
   },
   "file_extension": ".py",
   "mimetype": "text/x-python",
   "name": "python",
   "nbconvert_exporter": "python",
   "pygments_lexer": "ipython3",
   "version": "3.13.0"
  }
 },
 "nbformat": 4,
 "nbformat_minor": 5
}
